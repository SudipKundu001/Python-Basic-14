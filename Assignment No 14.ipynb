{
 "cells": [
  {
   "cell_type": "markdown",
   "id": "21e7fce0",
   "metadata": {},
   "source": [
    ">__1. What does RGBA stand for?__"
   ]
  },
  {
   "cell_type": "markdown",
   "id": "8892da82",
   "metadata": {},
   "source": [
    "Ans.  RGBA color values are an extension of RGB color values with an alpha channel - which specifies the opacity for a color. An RGBA color value is specified with: rgba(red, green, blue, alpha)."
   ]
  },
  {
   "cell_type": "markdown",
   "id": "567cb215",
   "metadata": {},
   "source": [
    ">__2. From the Pillow module, how do you get the RGBA value of any images?__"
   ]
  },
  {
   "cell_type": "markdown",
   "id": "786343cc",
   "metadata": {},
   "source": [
    "from PIL import Image  #import the Image module from the Pillow library.\n",
    "\n",
    "img = Image.open(‘image.png’) # Open any image. <br>\n",
    "rgba = img.convert(“RGBA”)   # get the RAGBAG values. <br>\n",
    "datas = rgba.getdata()"
   ]
  },
  {
   "cell_type": "markdown",
   "id": "9126e05c",
   "metadata": {},
   "source": [
    ">__3. What is a box tuple, and how does it work?__"
   ]
  },
  {
   "cell_type": "markdown",
   "id": "45d96b2d",
   "metadata": {},
   "source": [
    " Ans.  A box tuple represents all the pixels in the black box."
   ]
  },
  {
   "cell_type": "markdown",
   "id": "2c678174",
   "metadata": {},
   "source": [
    ">__4. Use your image and load in notebook then, How can you find out the width and height of an Image object?__"
   ]
  },
  {
   "cell_type": "markdown",
   "id": "be8a50fd",
   "metadata": {},
   "source": [
    "width, height = image.size  <br>\n",
    "print(width, height)"
   ]
  },
  {
   "cell_type": "markdown",
   "id": "db12be6f",
   "metadata": {},
   "source": [
    ">__5. What method would you call to get Image object for a 100×100 image, excluding the lower-left quarter of it?__"
   ]
  },
  {
   "cell_type": "markdown",
   "id": "779e85e1",
   "metadata": {},
   "source": [
    "Ans.  &emsp;np.array()  "
   ]
  },
  {
   "cell_type": "markdown",
   "id": "a3d703fc",
   "metadata": {},
   "source": [
    ">__6. After making changes to an Image object, how could you save it as an image file?__"
   ]
  },
  {
   "cell_type": "markdown",
   "id": "fb46a32f",
   "metadata": {},
   "source": [
    "Ans. We can save with the help of Image.save() object."
   ]
  },
  {
   "cell_type": "markdown",
   "id": "d2b098b3",
   "metadata": {},
   "source": [
    ">__7. What module contains Pillow’s shape-drawing code?__"
   ]
  },
  {
   "cell_type": "markdown",
   "id": "e48180a9",
   "metadata": {},
   "source": [
    "Ans.  ImageDraw module contains Pillow’s shape-drawing code"
   ]
  },
  {
   "cell_type": "markdown",
   "id": "8e000c74",
   "metadata": {},
   "source": [
    ">__8. Image objects do not have drawing methods. What kind of object does? How do you get this kind of object?__"
   ]
  },
  {
   "cell_type": "markdown",
   "id": "4e05dc95",
   "metadata": {},
   "source": [
    "Ans. The wand.drawing object has Drawing() methods. <br> You can get this object by calling :&emsp; from wand.drawing import Drawing"
   ]
  },
  {
   "cell_type": "code",
   "execution_count": null,
   "id": "0f7f0d6f",
   "metadata": {},
   "outputs": [],
   "source": []
  }
 ],
 "metadata": {
  "kernelspec": {
   "display_name": "Python 3",
   "language": "python",
   "name": "python3"
  },
  "language_info": {
   "codemirror_mode": {
    "name": "ipython",
    "version": 3
   },
   "file_extension": ".py",
   "mimetype": "text/x-python",
   "name": "python",
   "nbconvert_exporter": "python",
   "pygments_lexer": "ipython3",
   "version": "3.8.8"
  }
 },
 "nbformat": 4,
 "nbformat_minor": 5
}
